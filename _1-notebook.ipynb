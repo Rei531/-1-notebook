{
 "cells": [
  {
   "cell_type": "markdown",
   "id": "791dc5a4-a3c5-4a15-a782-f05817157948",
   "metadata": {},
   "source": [
    "# Data Science Tools and Ecosystem"
   ]
  },
  {
   "cell_type": "markdown",
   "id": "7eb8f111-bf58-42a5-a05e-c30d94a3a8ac",
   "metadata": {},
   "source": [
    "In this notebook, Data Science Tools and Ecosystem are summarized."
   ]
  },
  {
   "cell_type": "markdown",
   "id": "ce820f46-b224-4e1b-9666-85f85cf28313",
   "metadata": {},
   "source": [
    "**Objectives:**\n",
    "* List popular languages for Data Science\n",
    "* Some of the commonly used libraries used by Data Scientists\n",
    "* Data Science tools\n",
    "* Arithmetic expressions in Python"
   ]
  },
  {
   "cell_type": "markdown",
   "id": "9242e644-3ff2-42c9-bd74-8235e2aba831",
   "metadata": {},
   "source": [
    "Some of the popular languages that Data Scientists use are:"
   ]
  },
  {
   "cell_type": "markdown",
   "id": "12b979d6-4026-4751-a9e2-54d0d7ba8c9c",
   "metadata": {},
   "source": [
    "1. Python\n",
    "2. SQL\n",
    "3. R"
   ]
  },
  {
   "cell_type": "markdown",
   "id": "2e20e50f-888b-44e1-8e70-88f19bf9cfc2",
   "metadata": {},
   "source": [
    "Some of the commonly used libraries used by Data Scientists include:"
   ]
  },
  {
   "cell_type": "markdown",
   "id": "36bacb0b-db48-4676-8c3b-71079af70781",
   "metadata": {},
   "source": [
    "1. NumPy\n",
    "2. Pandas\n",
    "3. Matplotlib"
   ]
  },
  {
   "cell_type": "markdown",
   "id": "7aab79f8-b950-4b7a-8e9f-77d75eab2ba3",
   "metadata": {},
   "source": [
    "Data Science Tools|\n",
    "------------------|\n",
    "Jupyter Notebook |\n",
    "RStudio |\n",
    "VS Code |"
   ]
  },
  {
   "cell_type": "markdown",
   "id": "a6030524-9cbd-476f-8899-edf65c45e378",
   "metadata": {},
   "source": [
    "### Below are a few examples of evaluating arithmetic expressions in Python"
   ]
  },
  {
   "cell_type": "markdown",
   "id": "f52707fa-6272-4293-b859-55ace41c1180",
   "metadata": {},
   "source": [
    "- **Addition**: `5 + 3 = 8`\n",
    "- **Subtraction**: `10 - 4 = 6`\n",
    "- **Multiplication**: `6 * 7 = 42`\n",
    "- **Division**: `20 / 5 = 4`\n"
   ]
  },
  {
   "cell_type": "markdown",
   "id": "2296a1c8-08c7-4b10-8d4e-986ab5684b6d",
   "metadata": {},
   "source": [
    "### Below are a few examples of evaluating arithmetic expressions in Python "
   ]
  },
  {
   "cell_type": "code",
   "execution_count": 13,
   "id": "0995dfc9-edde-49cc-bc3f-c3c2d0e797d1",
   "metadata": {},
   "outputs": [
    {
     "data": {
      "text/plain": [
       "17"
      ]
     },
     "execution_count": 13,
     "metadata": {},
     "output_type": "execute_result"
    }
   ],
   "source": [
    "# This a simple arithmetic expression to mutiply then add integers\n",
    "(3*4)+5 "
   ]
  },
  {
   "cell_type": "code",
   "execution_count": 16,
   "id": "53d8dd3f-202e-4b34-bdae-033193c91a1c",
   "metadata": {},
   "outputs": [
    {
     "name": "stdout",
     "output_type": "stream",
     "text": [
      "3.3333333333333335\n"
     ]
    }
   ],
   "source": [
    "# This will convert 200 minutes to hours by dividing by 60\n",
    "minutes = 200\n",
    "hours = minutes / 60\n",
    "print(hours)"
   ]
  },
  {
   "cell_type": "markdown",
   "id": "de0b7413-8d96-42f1-93f9-7a5b60ef5de2",
   "metadata": {},
   "source": [
    "## Author\n",
    "[Rejlond Sinani](www.linkedin.com/in/rejlondsinani)"
   ]
  },
  {
   "cell_type": "code",
   "execution_count": null,
   "id": "3da00cdd-37c2-41cf-8823-7160d4c33a61",
   "metadata": {},
   "outputs": [],
   "source": []
  }
 ],
 "metadata": {
  "kernelspec": {
   "display_name": "Python 3 (ipykernel)",
   "language": "python",
   "name": "python3"
  },
  "language_info": {
   "codemirror_mode": {
    "name": "ipython",
    "version": 3
   },
   "file_extension": ".py",
   "mimetype": "text/x-python",
   "name": "python",
   "nbconvert_exporter": "python",
   "pygments_lexer": "ipython3",
   "version": "3.12.8"
  }
 },
 "nbformat": 4,
 "nbformat_minor": 5
}
